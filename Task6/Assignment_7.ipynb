{
 "cells": [
  {
   "cell_type": "code",
   "execution_count": 1,
   "id": "3d2b0918",
   "metadata": {},
   "outputs": [],
   "source": [
    "import pandas as pd\n",
    "import matplotlib.pyplot as plt\n",
    "import numpy as np\n",
    "from sklearn import linear_model"
   ]
  },
  {
   "cell_type": "code",
   "execution_count": 2,
   "id": "5b2dc9a7",
   "metadata": {},
   "outputs": [],
   "source": [
    "df = pd.read_fwf(\"salary.txt\", header=None, \n",
    "                 names=[\"Sex\", \"Rank\", \"Year\", \"Degree\", \"YSdeg\", \"Salary\"])"
   ]
  },
  {
   "cell_type": "code",
   "execution_count": 3,
   "id": "d2ecb831",
   "metadata": {},
   "outputs": [
    {
     "data": {
      "text/html": [
       "<div>\n",
       "<style scoped>\n",
       "    .dataframe tbody tr th:only-of-type {\n",
       "        vertical-align: middle;\n",
       "    }\n",
       "\n",
       "    .dataframe tbody tr th {\n",
       "        vertical-align: top;\n",
       "    }\n",
       "\n",
       "    .dataframe thead th {\n",
       "        text-align: right;\n",
       "    }\n",
       "</style>\n",
       "<table border=\"1\" class=\"dataframe\">\n",
       "  <thead>\n",
       "    <tr style=\"text-align: right;\">\n",
       "      <th></th>\n",
       "      <th>Sex</th>\n",
       "      <th>Rank</th>\n",
       "      <th>Year</th>\n",
       "      <th>Degree</th>\n",
       "      <th>YSdeg</th>\n",
       "      <th>Salary</th>\n",
       "    </tr>\n",
       "  </thead>\n",
       "  <tbody>\n",
       "    <tr>\n",
       "      <th>0</th>\n",
       "      <td>0</td>\n",
       "      <td>3</td>\n",
       "      <td>25</td>\n",
       "      <td>1</td>\n",
       "      <td>35</td>\n",
       "      <td>36350</td>\n",
       "    </tr>\n",
       "    <tr>\n",
       "      <th>1</th>\n",
       "      <td>0</td>\n",
       "      <td>3</td>\n",
       "      <td>13</td>\n",
       "      <td>1</td>\n",
       "      <td>22</td>\n",
       "      <td>35350</td>\n",
       "    </tr>\n",
       "    <tr>\n",
       "      <th>2</th>\n",
       "      <td>0</td>\n",
       "      <td>3</td>\n",
       "      <td>10</td>\n",
       "      <td>1</td>\n",
       "      <td>23</td>\n",
       "      <td>28200</td>\n",
       "    </tr>\n",
       "    <tr>\n",
       "      <th>3</th>\n",
       "      <td>1</td>\n",
       "      <td>3</td>\n",
       "      <td>7</td>\n",
       "      <td>1</td>\n",
       "      <td>27</td>\n",
       "      <td>26775</td>\n",
       "    </tr>\n",
       "    <tr>\n",
       "      <th>4</th>\n",
       "      <td>0</td>\n",
       "      <td>3</td>\n",
       "      <td>19</td>\n",
       "      <td>0</td>\n",
       "      <td>30</td>\n",
       "      <td>33696</td>\n",
       "    </tr>\n",
       "  </tbody>\n",
       "</table>\n",
       "</div>"
      ],
      "text/plain": [
       "   Sex  Rank  Year  Degree  YSdeg  Salary\n",
       "0    0     3    25       1     35   36350\n",
       "1    0     3    13       1     22   35350\n",
       "2    0     3    10       1     23   28200\n",
       "3    1     3     7       1     27   26775\n",
       "4    0     3    19       0     30   33696"
      ]
     },
     "execution_count": 3,
     "metadata": {},
     "output_type": "execute_result"
    }
   ],
   "source": [
    "df.head()"
   ]
  },
  {
   "cell_type": "code",
   "execution_count": 4,
   "id": "e53fe8e6",
   "metadata": {},
   "outputs": [
    {
     "name": "stdout",
     "output_type": "stream",
     "text": [
      "<class 'pandas.core.frame.DataFrame'>\n",
      "RangeIndex: 52 entries, 0 to 51\n",
      "Data columns (total 6 columns):\n",
      " #   Column  Non-Null Count  Dtype\n",
      "---  ------  --------------  -----\n",
      " 0   Sex     52 non-null     int64\n",
      " 1   Rank    52 non-null     int64\n",
      " 2   Year    52 non-null     int64\n",
      " 3   Degree  52 non-null     int64\n",
      " 4   YSdeg   52 non-null     int64\n",
      " 5   Salary  52 non-null     int64\n",
      "dtypes: int64(6)\n",
      "memory usage: 2.6 KB\n"
     ]
    }
   ],
   "source": [
    "df.info()"
   ]
  },
  {
   "cell_type": "markdown",
   "id": "25db0d14",
   "metadata": {},
   "source": [
    "# Task 1\n",
    "Find Linear Regression equation"
   ]
  },
  {
   "cell_type": "code",
   "execution_count": 5,
   "id": "696b90f7",
   "metadata": {},
   "outputs": [],
   "source": [
    "X= df[['Sex','Rank','Year','Degree','YSdeg']]"
   ]
  },
  {
   "cell_type": "code",
   "execution_count": 6,
   "id": "02f3ce33",
   "metadata": {},
   "outputs": [],
   "source": [
    "y=df['Salary']"
   ]
  },
  {
   "cell_type": "code",
   "execution_count": 7,
   "id": "068cf4f6",
   "metadata": {},
   "outputs": [
    {
     "data": {
      "text/html": [
       "<div>\n",
       "<style scoped>\n",
       "    .dataframe tbody tr th:only-of-type {\n",
       "        vertical-align: middle;\n",
       "    }\n",
       "\n",
       "    .dataframe tbody tr th {\n",
       "        vertical-align: top;\n",
       "    }\n",
       "\n",
       "    .dataframe thead th {\n",
       "        text-align: right;\n",
       "    }\n",
       "</style>\n",
       "<table border=\"1\" class=\"dataframe\">\n",
       "  <thead>\n",
       "    <tr style=\"text-align: right;\">\n",
       "      <th></th>\n",
       "      <th>Sex</th>\n",
       "      <th>Rank</th>\n",
       "      <th>Year</th>\n",
       "      <th>Degree</th>\n",
       "      <th>YSdeg</th>\n",
       "    </tr>\n",
       "  </thead>\n",
       "  <tbody>\n",
       "    <tr>\n",
       "      <th>0</th>\n",
       "      <td>0</td>\n",
       "      <td>3</td>\n",
       "      <td>25</td>\n",
       "      <td>1</td>\n",
       "      <td>35</td>\n",
       "    </tr>\n",
       "    <tr>\n",
       "      <th>1</th>\n",
       "      <td>0</td>\n",
       "      <td>3</td>\n",
       "      <td>13</td>\n",
       "      <td>1</td>\n",
       "      <td>22</td>\n",
       "    </tr>\n",
       "    <tr>\n",
       "      <th>2</th>\n",
       "      <td>0</td>\n",
       "      <td>3</td>\n",
       "      <td>10</td>\n",
       "      <td>1</td>\n",
       "      <td>23</td>\n",
       "    </tr>\n",
       "    <tr>\n",
       "      <th>3</th>\n",
       "      <td>1</td>\n",
       "      <td>3</td>\n",
       "      <td>7</td>\n",
       "      <td>1</td>\n",
       "      <td>27</td>\n",
       "    </tr>\n",
       "    <tr>\n",
       "      <th>4</th>\n",
       "      <td>0</td>\n",
       "      <td>3</td>\n",
       "      <td>19</td>\n",
       "      <td>0</td>\n",
       "      <td>30</td>\n",
       "    </tr>\n",
       "  </tbody>\n",
       "</table>\n",
       "</div>"
      ],
      "text/plain": [
       "   Sex  Rank  Year  Degree  YSdeg\n",
       "0    0     3    25       1     35\n",
       "1    0     3    13       1     22\n",
       "2    0     3    10       1     23\n",
       "3    1     3     7       1     27\n",
       "4    0     3    19       0     30"
      ]
     },
     "execution_count": 7,
     "metadata": {},
     "output_type": "execute_result"
    }
   ],
   "source": [
    "X.head()"
   ]
  },
  {
   "cell_type": "code",
   "execution_count": 8,
   "id": "e51ac8e3",
   "metadata": {},
   "outputs": [
    {
     "data": {
      "text/plain": [
       "LinearRegression()"
      ]
     },
     "execution_count": 8,
     "metadata": {},
     "output_type": "execute_result"
    }
   ],
   "source": [
    "regr=linear_model.LinearRegression()\n",
    "regr.fit(X,y)"
   ]
  },
  {
   "cell_type": "code",
   "execution_count": 9,
   "id": "43f4f25c",
   "metadata": {},
   "outputs": [],
   "source": [
    "m=format(regr.coef_[0],'.2f')\n",
    "c=format(regr.intercept_,'.2f')"
   ]
  },
  {
   "cell_type": "code",
   "execution_count": 10,
   "id": "5dd5f335",
   "metadata": {},
   "outputs": [
    {
     "name": "stdout",
     "output_type": "stream",
     "text": [
      "[ 1241.7924996   5586.18144952   482.85976783 -1331.64406341\n",
      "  -128.79057354] *  x  + 11410.15\n"
     ]
    }
   ],
   "source": [
    "print(regr.coef_,'*  x  +',c)"
   ]
  },
  {
   "cell_type": "markdown",
   "id": "c3f94ade",
   "metadata": {},
   "source": [
    "# Task 2\n",
    "\n",
    "Find selection of columns with best R^2"
   ]
  },
  {
   "cell_type": "code",
   "execution_count": 11,
   "id": "1675e291",
   "metadata": {},
   "outputs": [
    {
     "data": {
      "text/plain": [
       "0.8547180674410969"
      ]
     },
     "execution_count": 11,
     "metadata": {},
     "output_type": "execute_result"
    }
   ],
   "source": [
    "regr.score(X,y)"
   ]
  },
  {
   "cell_type": "code",
   "execution_count": 12,
   "id": "ce211a0f",
   "metadata": {},
   "outputs": [],
   "source": [
    "features=['Sex','Rank','Year','Degree','YSdeg']"
   ]
  },
  {
   "cell_type": "code",
   "execution_count": 15,
   "id": "6561b410",
   "metadata": {},
   "outputs": [],
   "source": [
    "def reg_eqn(features,df,y='Salary'):\n",
    "    input=df[features]\n",
    "    output=df[y]\n",
    "    regr=linear_model.LinearRegression()\n",
    "    regr.fit(input,output)\n",
    "    return regr.score(input,output)"
   ]
  },
  {
   "cell_type": "code",
   "execution_count": 16,
   "id": "1ec9902e",
   "metadata": {},
   "outputs": [
    {
     "name": "stdout",
     "output_type": "stream",
     "text": [
      "R ^2 score is 0.8547180674410969\n"
     ]
    }
   ],
   "source": [
    "print('R ^2 score is {}'.format(reg_eqn(features,df)))\n"
   ]
  },
  {
   "cell_type": "code",
   "execution_count": 23,
   "id": "31f07082",
   "metadata": {},
   "outputs": [],
   "source": [
    "import itertools as it\n",
    "def get_combination(features):\n",
    "    return [it.combinations(features, n+1) for n in range (len(features))]\n",
    "\n",
    "def all_score_combo(combo,df,y=\"Salary\"):\n",
    "    score={}\n",
    "    for i in range(len(list(features))):\n",
    "        for j in list(combo[i]):\n",
    "            score[reg_eqn(list(j),df,y)] = j\n",
    "    return score"
   ]
  },
  {
   "cell_type": "code",
   "execution_count": 25,
   "id": "793e61b8",
   "metadata": {},
   "outputs": [
    {
     "data": {
      "text/plain": [
       "[(0.8547180674410969, ('Sex', 'Rank', 'Year', 'Degree', 'YSdeg')),\n",
       " (0.8490366192262851, ('Sex', 'Rank', 'Year', 'YSdeg')),\n",
       " (0.8485077204335425, ('Rank', 'Year', 'Degree', 'YSdeg')),\n",
       " (0.8456725764485598, ('Rank', 'Year', 'YSdeg')),\n",
       " (0.845547641297936, ('Sex', 'Rank', 'Year', 'Degree')),\n",
       " (0.8454319861987166, ('Sex', 'Rank', 'Year')),\n",
       " (0.8437395200874137, ('Rank', 'Year', 'Degree')),\n",
       " (0.8436480933264598, ('Rank', 'Year')),\n",
       " (0.7671813414350668, ('Sex', 'Rank', 'Degree', 'YSdeg')),\n",
       " (0.7666122610227071, ('Sex', 'Rank', 'YSdeg')),\n",
       " (0.7625149185326454, ('Rank', 'Degree', 'YSdeg')),\n",
       " (0.7623948189698249, ('Rank', 'YSdeg')),\n",
       " (0.7583144768153612, ('Sex', 'Rank', 'Degree')),\n",
       " (0.7557961688386643, ('Rank', 'Degree')),\n",
       " (0.7554917749443394, ('Sex', 'Rank')),\n",
       " (0.7525360539274633, ('Rank',)),\n",
       " (0.6311597502907434, ('Sex', 'Year', 'Degree', 'YSdeg')),\n",
       " (0.6236261611533505, ('Year', 'Degree', 'YSdeg')),\n",
       " (0.5832708257660315, ('Sex', 'Degree', 'YSdeg')),\n",
       " (0.5808063918180405, ('Sex', 'Year', 'YSdeg')),\n",
       " (0.5782019226431887, ('Year', 'YSdeg')),\n",
       " (0.5409662288237875, ('Degree', 'YSdeg')),\n",
       " (0.4930479271966782, ('Sex', 'YSdeg')),\n",
       " (0.49207944757472966, ('Sex', 'Year', 'Degree')),\n",
       " (0.4919014149016442, ('Year', 'Degree')),\n",
       " (0.4911360941886387, ('Sex', 'Year')),\n",
       " (0.49093702676921624, ('Year',)),\n",
       " (0.45542813458360276, ('YSdeg',)),\n",
       " (0.06643739842018881, ('Sex', 'Degree')),\n",
       " (0.06389892583288015, ('Sex',)),\n",
       " (0.004861680984748373, ('Degree',))]"
      ]
     },
     "execution_count": 25,
     "metadata": {},
     "output_type": "execute_result"
    }
   ],
   "source": [
    "combo=get_combination(features)\n",
    "list1=all_score_combo(combo,df)\n",
    "sorted(list1.items(),key=lambda c:c[0],reverse=True)"
   ]
  },
  {
   "cell_type": "markdown",
   "id": "48e5be6d",
   "metadata": {},
   "source": [
    "Year and Rank plays important role"
   ]
  },
  {
   "cell_type": "markdown",
   "id": "d7859f9d",
   "metadata": {},
   "source": [
    "# Task 3"
   ]
  },
  {
   "cell_type": "code",
   "execution_count": 28,
   "id": "84e85f97",
   "metadata": {},
   "outputs": [
    {
     "name": "stdout",
     "output_type": "stream",
     "text": [
      "Men : 38\n",
      "Women : 14\n"
     ]
    }
   ],
   "source": [
    "sex_count=df.Sex.value_counts()\n",
    "print('Men : {}'.format(sex_count[0]))\n",
    "print('Women : {}'.format(sex_count[1]))"
   ]
  },
  {
   "cell_type": "code",
   "execution_count": 36,
   "id": "3012c80d",
   "metadata": {},
   "outputs": [
    {
     "data": {
      "image/png": "[encoded data removed]",
      "text/plain": [
       "<Figure size 432x288 with 1 Axes>"
      ]
     },
     "metadata": {
      "needs_background": "light"
     },
     "output_type": "display_data"
    }
   ],
   "source": [
    "df.pivot_table(index=df.index, columns='Sex', values='Salary') \\\n",
    "    .plot(kind='hist',  stacked=True,title='Salary by Sex')\n",
    "plt.xlabel('Dollars')\n",
    "plt.ylabel('Faculty')\n",
    "plt.show()"
   ]
  },
  {
   "cell_type": "code",
   "execution_count": 37,
   "id": "405438e1",
   "metadata": {},
   "outputs": [
    {
     "data": {
      "image/png": "[encoded data removed]",
      "text/plain": [
       "<Figure size 432x288 with 1 Axes>"
      ]
     },
     "metadata": {
      "needs_background": "light"
     },
     "output_type": "display_data"
    }
   ],
   "source": [
    "df.pivot_table(index=df.index, columns='Sex', values='Rank') \\\n",
    "    .plot(kind='hist',  stacked=True, title='Rank by Sex')\n",
    "plt.xticks([1, 2, 3])\n",
    "plt.xlabel('Rank')\n",
    "plt.ylabel('Faculty')\n",
    "plt.show()"
   ]
  },
  {
   "cell_type": "code",
   "execution_count": null,
   "id": "5182bd0b",
   "metadata": {},
   "outputs": [],
   "source": []
  }
 ],
 "metadata": {
  "kernelspec": {
   "display_name": "Python 3 (ipykernel)",
   "language": "python",
   "name": "python3"
  },
  "language_info": {
   "codemirror_mode": {
    "name": "ipython",
    "version": 3
   },
   "file_extension": ".py",
   "mimetype": "text/x-python",
   "name": "python",
   "nbconvert_exporter": "python",
   "pygments_lexer": "ipython3",
   "version": "3.9.7"
  }
 },
 "nbformat": 4,
 "nbformat_minor": 5
}
