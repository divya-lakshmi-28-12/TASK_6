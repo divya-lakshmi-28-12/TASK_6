{
 "cells": [
  {
   "cell_type": "code",
   "execution_count": 2,
   "id": "1334150b",
   "metadata": {},
   "outputs": [],
   "source": [
    "import pandas as pd\n",
    "import matplotlib.pyplot as plt\n",
    "import numpy as np\n",
    "from sklearn import linear_model"
   ]
  },
  {
   "cell_type": "code",
   "execution_count": 3,
   "id": "ab539156",
   "metadata": {},
   "outputs": [],
   "source": [
    "df = pd.read_fwf(\"brain_body.txt\")"
   ]
  },
  {
   "cell_type": "code",
   "execution_count": 4,
   "id": "fc3f142c",
   "metadata": {},
   "outputs": [
    {
     "data": {
      "text/html": [
       "<div>\n",
       "<style scoped>\n",
       "    .dataframe tbody tr th:only-of-type {\n",
       "        vertical-align: middle;\n",
       "    }\n",
       "\n",
       "    .dataframe tbody tr th {\n",
       "        vertical-align: top;\n",
       "    }\n",
       "\n",
       "    .dataframe thead th {\n",
       "        text-align: right;\n",
       "    }\n",
       "</style>\n",
       "<table border=\"1\" class=\"dataframe\">\n",
       "  <thead>\n",
       "    <tr style=\"text-align: right;\">\n",
       "      <th></th>\n",
       "      <th>Brain</th>\n",
       "      <th>Body</th>\n",
       "    </tr>\n",
       "  </thead>\n",
       "  <tbody>\n",
       "    <tr>\n",
       "      <th>0</th>\n",
       "      <td>3.385</td>\n",
       "      <td>44.5</td>\n",
       "    </tr>\n",
       "    <tr>\n",
       "      <th>1</th>\n",
       "      <td>0.480</td>\n",
       "      <td>15.5</td>\n",
       "    </tr>\n",
       "    <tr>\n",
       "      <th>2</th>\n",
       "      <td>1.350</td>\n",
       "      <td>8.1</td>\n",
       "    </tr>\n",
       "    <tr>\n",
       "      <th>3</th>\n",
       "      <td>465.000</td>\n",
       "      <td>423.0</td>\n",
       "    </tr>\n",
       "    <tr>\n",
       "      <th>4</th>\n",
       "      <td>36.330</td>\n",
       "      <td>119.5</td>\n",
       "    </tr>\n",
       "  </tbody>\n",
       "</table>\n",
       "</div>"
      ],
      "text/plain": [
       "     Brain   Body\n",
       "0    3.385   44.5\n",
       "1    0.480   15.5\n",
       "2    1.350    8.1\n",
       "3  465.000  423.0\n",
       "4   36.330  119.5"
      ]
     },
     "execution_count": 4,
     "metadata": {},
     "output_type": "execute_result"
    }
   ],
   "source": [
    "df.head()"
   ]
  },
  {
   "cell_type": "code",
   "execution_count": 5,
   "id": "ae57e342",
   "metadata": {},
   "outputs": [
    {
     "name": "stdout",
     "output_type": "stream",
     "text": [
      "<class 'pandas.core.frame.DataFrame'>\n",
      "RangeIndex: 62 entries, 0 to 61\n",
      "Data columns (total 2 columns):\n",
      " #   Column  Non-Null Count  Dtype  \n",
      "---  ------  --------------  -----  \n",
      " 0   Brain   62 non-null     float64\n",
      " 1   Body    62 non-null     float64\n",
      "dtypes: float64(2)\n",
      "memory usage: 1.1 KB\n"
     ]
    }
   ],
   "source": [
    "df.info()"
   ]
  },
  {
   "cell_type": "markdown",
   "id": "cfd19ea6",
   "metadata": {},
   "source": [
    "# Task 1\n",
    "Find Linear Regression equation"
   ]
  },
  {
   "cell_type": "code",
   "execution_count": 7,
   "id": "c91ab967",
   "metadata": {},
   "outputs": [],
   "source": [
    "regr = linear_model.LinearRegression()"
   ]
  },
  {
   "cell_type": "code",
   "execution_count": 8,
   "id": "ee50b9cc",
   "metadata": {},
   "outputs": [],
   "source": [
    "X = df[['Body']]\n",
    "y=df['Brain']"
   ]
  },
  {
   "cell_type": "code",
   "execution_count": 10,
   "id": "6ccac63a",
   "metadata": {},
   "outputs": [
    {
     "data": {
      "text/plain": [
       "LinearRegression()"
      ]
     },
     "execution_count": 10,
     "metadata": {},
     "output_type": "execute_result"
    }
   ],
   "source": [
    "regr.fit(X,y)"
   ]
  },
  {
   "cell_type": "code",
   "execution_count": 14,
   "id": "f8d03019",
   "metadata": {},
   "outputs": [],
   "source": [
    "c=format(regr.intercept_,'.2f')\n",
    "m=format(regr.coef_[0],'.2f')"
   ]
  },
  {
   "cell_type": "code",
   "execution_count": 15,
   "id": "d17acdec",
   "metadata": {},
   "outputs": [
    {
     "name": "stdout",
     "output_type": "stream",
     "text": [
      "0.90 -56.86\n"
     ]
    }
   ],
   "source": [
    "print(m,c)"
   ]
  },
  {
   "cell_type": "code",
   "execution_count": 16,
   "id": "968889e6",
   "metadata": {},
   "outputs": [
    {
     "name": "stdout",
     "output_type": "stream",
     "text": [
      "Linear Regression Equation: y = 0.90 * x + -56.86\n"
     ]
    }
   ],
   "source": [
    "print('Linear Regression Equation: y = {} * x + {}'\n",
    "      .format(m,c))"
   ]
  },
  {
   "cell_type": "markdown",
   "id": "ac42e909",
   "metadata": {},
   "source": [
    "# Task 2\n",
    "\n",
    "Chart the original data and equation of the chart"
   ]
  },
  {
   "cell_type": "code",
   "execution_count": 17,
   "id": "9a5bd5d9",
   "metadata": {},
   "outputs": [
    {
     "data": {
      "image/png": "[encoded data removed]",
      "text/plain": [
       "<Figure size 432x288 with 1 Axes>"
      ]
     },
     "metadata": {
      "needs_background": "light"
     },
     "output_type": "display_data"
    }
   ],
   "source": [
    "plt.scatter(X,y,color='b')\n",
    "plt.plot(X,regr.predict(X),color='r')\n",
    "plt.title('Body vs Brain weight')\n",
    "plt.xlabel('Body weight')\n",
    "plt.ylabel('Brain weight')\n",
    "plt.show()"
   ]
  },
  {
   "cell_type": "markdown",
   "id": "961042ff",
   "metadata": {},
   "source": [
    "# Task 3\n",
    "\n",
    "Find R^2 equation"
   ]
  },
  {
   "cell_type": "code",
   "execution_count": 19,
   "id": "695cabf0",
   "metadata": {},
   "outputs": [
    {
     "name": "stdout",
     "output_type": "stream",
     "text": [
      "0.8726620843043331\n"
     ]
    }
   ],
   "source": [
    "print(regr.score(X,y))"
   ]
  },
  {
   "cell_type": "markdown",
   "id": "a88a2bea",
   "metadata": {},
   "source": [
    "Score is greater than 0.8 hence it is a good fit."
   ]
  },
  {
   "cell_type": "code",
   "execution_count": null,
   "id": "3f6bc770",
   "metadata": {},
   "outputs": [],
   "source": []
  }
 ],
 "metadata": {
  "kernelspec": {
   "display_name": "Python 3 (ipykernel)",
   "language": "python",
   "name": "python3"
  },
  "language_info": {
   "codemirror_mode": {
    "name": "ipython",
    "version": 3
   },
   "file_extension": ".py",
   "mimetype": "text/x-python",
   "name": "python",
   "nbconvert_exporter": "python",
   "pygments_lexer": "ipython3",
   "version": "3.9.7"
  }
 },
 "nbformat": 4,
 "nbformat_minor": 5
}
