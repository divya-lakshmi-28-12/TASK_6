{
 "cells": [
  {
   "cell_type": "code",
   "execution_count": 2,
   "id": "d1bac855",
   "metadata": {},
   "outputs": [],
   "source": [
    "import pandas as pd\n",
    "import matplotlib.pyplot as plt\n",
    "import numpy as np\n",
    "from sklearn import linear_model"
   ]
  },
  {
   "cell_type": "code",
   "execution_count": 3,
   "id": "2b59b238",
   "metadata": {},
   "outputs": [],
   "source": [
    "ground_cricket_data = {\"Chirps/Second\": [20.0, 16.0, 19.8, 18.4, 17.1, 15.5, 14.7,\n",
    "                                         15.7, 15.4, 16.3, 15.0, 17.2, 16.0, 17.0,\n",
    "                                         14.4],\n",
    "                       \"Ground Temperature\": [88.6, 71.6, 93.3, 84.3, 80.6, 75.2, 69.7,\n",
    "                                              71.6, 69.4, 83.3, 79.6, 82.6, 80.6, 83.5,\n",
    "                                              76.3]}\n",
    "df = pd.DataFrame(ground_cricket_data)"
   ]
  },
  {
   "cell_type": "code",
   "execution_count": 7,
   "id": "49e210ef",
   "metadata": {},
   "outputs": [
    {
     "data": {
      "text/html": [
       "<div>\n",
       "<style scoped>\n",
       "    .dataframe tbody tr th:only-of-type {\n",
       "        vertical-align: middle;\n",
       "    }\n",
       "\n",
       "    .dataframe tbody tr th {\n",
       "        vertical-align: top;\n",
       "    }\n",
       "\n",
       "    .dataframe thead th {\n",
       "        text-align: right;\n",
       "    }\n",
       "</style>\n",
       "<table border=\"1\" class=\"dataframe\">\n",
       "  <thead>\n",
       "    <tr style=\"text-align: right;\">\n",
       "      <th></th>\n",
       "      <th>Chirps/Second</th>\n",
       "      <th>Ground Temperature</th>\n",
       "    </tr>\n",
       "  </thead>\n",
       "  <tbody>\n",
       "    <tr>\n",
       "      <th>0</th>\n",
       "      <td>20.0</td>\n",
       "      <td>88.6</td>\n",
       "    </tr>\n",
       "    <tr>\n",
       "      <th>1</th>\n",
       "      <td>16.0</td>\n",
       "      <td>71.6</td>\n",
       "    </tr>\n",
       "    <tr>\n",
       "      <th>2</th>\n",
       "      <td>19.8</td>\n",
       "      <td>93.3</td>\n",
       "    </tr>\n",
       "    <tr>\n",
       "      <th>3</th>\n",
       "      <td>18.4</td>\n",
       "      <td>84.3</td>\n",
       "    </tr>\n",
       "    <tr>\n",
       "      <th>4</th>\n",
       "      <td>17.1</td>\n",
       "      <td>80.6</td>\n",
       "    </tr>\n",
       "  </tbody>\n",
       "</table>\n",
       "</div>"
      ],
      "text/plain": [
       "   Chirps/Second  Ground Temperature\n",
       "0           20.0                88.6\n",
       "1           16.0                71.6\n",
       "2           19.8                93.3\n",
       "3           18.4                84.3\n",
       "4           17.1                80.6"
      ]
     },
     "execution_count": 7,
     "metadata": {},
     "output_type": "execute_result"
    }
   ],
   "source": [
    "df.head()"
   ]
  },
  {
   "cell_type": "code",
   "execution_count": 5,
   "id": "f17c62fe",
   "metadata": {},
   "outputs": [
    {
     "name": "stdout",
     "output_type": "stream",
     "text": [
      "<class 'pandas.core.frame.DataFrame'>\n",
      "RangeIndex: 15 entries, 0 to 14\n",
      "Data columns (total 2 columns):\n",
      " #   Column              Non-Null Count  Dtype  \n",
      "---  ------              --------------  -----  \n",
      " 0   Chirps/Second       15 non-null     float64\n",
      " 1   Ground Temperature  15 non-null     float64\n",
      "dtypes: float64(2)\n",
      "memory usage: 368.0 bytes\n"
     ]
    }
   ],
   "source": [
    "df.info()"
   ]
  },
  {
   "cell_type": "markdown",
   "id": "9efa457f",
   "metadata": {},
   "source": [
    "# Task 1 :\n",
    "Find Linear regression equation\n",
    "    "
   ]
  },
  {
   "cell_type": "code",
   "execution_count": 8,
   "id": "31635edd",
   "metadata": {},
   "outputs": [],
   "source": [
    "regr = linear_model.LinearRegression()"
   ]
  },
  {
   "cell_type": "code",
   "execution_count": 16,
   "id": "abd079af",
   "metadata": {},
   "outputs": [],
   "source": [
    "X= df [['Ground Temperature']]\n",
    "y=df ['Chirps/Second']"
   ]
  },
  {
   "cell_type": "code",
   "execution_count": 19,
   "id": "c3a3f0e2",
   "metadata": {},
   "outputs": [
    {
     "data": {
      "text/plain": [
       "LinearRegression()"
      ]
     },
     "execution_count": 19,
     "metadata": {},
     "output_type": "execute_result"
    }
   ],
   "source": [
    "regr.fit(X,y)"
   ]
  },
  {
   "cell_type": "code",
   "execution_count": 45,
   "id": "fd5d98c7",
   "metadata": {},
   "outputs": [],
   "source": [
    "m=format(regr.coef_[0],'.2f')\n",
    "c=format(regr.intercept_,'.2f')"
   ]
  },
  {
   "cell_type": "code",
   "execution_count": 46,
   "id": "74ad0c4b",
   "metadata": {},
   "outputs": [
    {
     "name": "stdout",
     "output_type": "stream",
     "text": [
      "0.20 0.46\n"
     ]
    }
   ],
   "source": [
    "print(m,c)"
   ]
  },
  {
   "cell_type": "code",
   "execution_count": 47,
   "id": "25e06c28",
   "metadata": {},
   "outputs": [
    {
     "name": "stdout",
     "output_type": "stream",
     "text": [
      "Linear Regression Equation: y = 0.20 * x + 0.46\n"
     ]
    }
   ],
   "source": [
    "print('Linear Regression Equation: y = {} * x + {}'\n",
    "      .format(m,c))"
   ]
  },
  {
   "cell_type": "markdown",
   "id": "78c865ae",
   "metadata": {},
   "source": [
    "# Task 2\n",
    "\n",
    "Chart original data and equation of the chart\n"
   ]
  },
  {
   "cell_type": "code",
   "execution_count": 38,
   "id": "98dc237f",
   "metadata": {},
   "outputs": [
    {
     "data": {
      "image/png": "[encoded data removed]",
      "text/plain": [
       "<Figure size 432x288 with 1 Axes>"
      ]
     },
     "metadata": {
      "needs_background": "light"
     },
     "output_type": "display_data"
    }
   ],
   "source": [
    "plt.scatter(X,y,color='b')\n",
    "plt.plot(X,regr.predict(X),color='r')\n",
    "plt.title('Ground Temp Vs Chirps by Insects')\n",
    "plt.xlabel('Ground Temperature')\n",
    "plt.ylabel('Chirps/Sec')\n",
    "plt.show()"
   ]
  },
  {
   "cell_type": "markdown",
   "id": "1d495d1b",
   "metadata": {},
   "source": [
    "# Task 3\n",
    "\n",
    "Find R^2 equation"
   ]
  },
  {
   "cell_type": "code",
   "execution_count": 39,
   "id": "e955cc2f",
   "metadata": {},
   "outputs": [
    {
     "name": "stdout",
     "output_type": "stream",
     "text": [
      "0.6922946529147\n"
     ]
    }
   ],
   "source": [
    "print(regr.score(X,y))"
   ]
  },
  {
   "cell_type": "markdown",
   "id": "fbb04119",
   "metadata": {},
   "source": [
    "Since it is less than 0.8 it does not have a strong correlation"
   ]
  },
  {
   "cell_type": "markdown",
   "id": "9f06ee6d",
   "metadata": {},
   "source": [
    "# Task 4\n",
    "\n",
    "Extrapolate data\n"
   ]
  },
  {
   "cell_type": "code",
   "execution_count": 77,
   "id": "688bb262",
   "metadata": {},
   "outputs": [
    {
     "name": "stdout",
     "output_type": "stream",
     "text": [
      "For the ground temperature 95 degrees the chirps/second is : 19.74\n"
     ]
    }
   ],
   "source": [
    "x_test = np.array([95]).reshape((-1, 1))\n",
    "y_pred=regr.predict(x_test)\n",
    "print('For the ground temperature 95 degrees the chirps/second is :',format(y_pred[0],'.2f'))\n"
   ]
  },
  {
   "cell_type": "markdown",
   "id": "9ccc8762",
   "metadata": {},
   "source": [
    "# Task 5\n",
    "\n",
    "Interpolate data"
   ]
  },
  {
   "cell_type": "code",
   "execution_count": 82,
   "id": "628efaa5",
   "metadata": {},
   "outputs": [
    {
     "name": "stdout",
     "output_type": "stream",
     "text": [
      "For 18 chirps/second the ground temperature is 86.41\n"
     ]
    }
   ],
   "source": [
    "def chirps_to_temp(y):\n",
    "    ret = format((y - regr.intercept_) / regr.coef_[0],'.2f')\n",
    "    print('For {} chirps/second the ground temperature is {}'.format(y,ret))\n",
    "chirps_to_temp(18)"
   ]
  },
  {
   "cell_type": "code",
   "execution_count": null,
   "id": "7b4d5ce6",
   "metadata": {},
   "outputs": [],
   "source": []
  }
 ],
 "metadata": {
  "kernelspec": {
   "display_name": "Python 3 (ipykernel)",
   "language": "python",
   "name": "python3"
  },
  "language_info": {
   "codemirror_mode": {
    "name": "ipython",
    "version": 3
   },
   "file_extension": ".py",
   "mimetype": "text/x-python",
   "name": "python",
   "nbconvert_exporter": "python",
   "pygments_lexer": "ipython3",
   "version": "3.9.7"
  }
 },
 "nbformat": 4,
 "nbformat_minor": 5
}
