{
 "cells": [
  {
   "cell_type": "markdown",
   "metadata": {},
   "source": [
    "# Assignment8"
   ]
  },
  {
   "cell_type": "code",
   "execution_count": 4,
   "metadata": {},
   "outputs": [],
   "source": [
    "import pandas as pd\n",
    "import matplotlib.pyplot as plt\n",
    "import numpy as np\n",
    "from sklearn import linear_model"
   ]
  },
  {
   "cell_type": "markdown",
   "metadata": {},
   "source": [
    "# How Much is Your Car Worth?\n",
    "\n",
    "Data about the retail price of 2005 General Motors cars can be found in `car_data.csv`.\n",
    "\n",
    "The columns are:\n",
    "\n",
    "1. Price: suggested retail price of the used 2005 GM car in excellent condition.\n",
    "2. Mileage: number of miles the car has been driven\n",
    "3. Make: manufacturer of the car such as Saturn, Pontiac, and Chevrolet\n",
    "4. Model: specific models for each car manufacturer such as Ion, Vibe, Cavalier\n",
    "5. Trim (of car): specific type of car model such as SE Sedan 4D, Quad Coupe 2D          \n",
    "6. Type: body type such as sedan, coupe, etc.      \n",
    "7. Cylinder: number of cylinders in the engine        \n",
    "8. Liter: a more specific measure of engine size     \n",
    "9. Doors: number of doors           \n",
    "10. Cruise: indicator variable representing whether the car has cruise control (1 = cruise)\n",
    "11. Sound: indicator variable representing whether the car has upgraded speakers (1 = upgraded)\n",
    "12. Leather: indicator variable representing whether the car has leather seats (1 = leather)\n",
    "\n",
    "## Tasks, Part 1\n",
    "\n",
    "1. Find the linear regression equation for mileage vs price.\n",
    "2. Chart the original data and the equation on the chart.\n",
    "3. Find the equation's $R^2$ score (use the `.score` method) to determine whether the\n",
    "equation is a good fit for this data. (0.8 and greater is considered a strong correlation.)\n",
    "\n",
    "## Tasks, Part 2\n",
    "\n",
    "1. Use mileage, cylinders, liters, doors, cruise, sound, and leather to find the linear regression equation.\n",
    "2. Find the equation's $R^2$ score (use the `.score` method) to determine whether the\n",
    "equation is a good fit for this data. (0.8 and greater is considered a strong correlation.)\n",
    "3. Find the combination of the factors that is the best predictor for price.\n",
    "\n",
    "## Tasks, Hard Mode\n",
    "\n",
    "1. Research dummy variables in scikit-learn to see how to use the make, model, and body type.\n",
    "2. Find the best combination of factors to predict price."
   ]
  },
  {
   "cell_type": "code",
   "execution_count": 5,
   "metadata": {},
   "outputs": [],
   "source": [
    "df = pd.read_csv(\"car_data.csv\")"
   ]
  },
  {
   "cell_type": "code",
   "execution_count": 6,
   "metadata": {},
   "outputs": [
    {
     "data": {
      "text/html": [
       "<div>\n",
       "<style scoped>\n",
       "    .dataframe tbody tr th:only-of-type {\n",
       "        vertical-align: middle;\n",
       "    }\n",
       "\n",
       "    .dataframe tbody tr th {\n",
       "        vertical-align: top;\n",
       "    }\n",
       "\n",
       "    .dataframe thead th {\n",
       "        text-align: right;\n",
       "    }\n",
       "</style>\n",
       "<table border=\"1\" class=\"dataframe\">\n",
       "  <thead>\n",
       "    <tr style=\"text-align: right;\">\n",
       "      <th></th>\n",
       "      <th>Price</th>\n",
       "      <th>Mileage</th>\n",
       "      <th>Make</th>\n",
       "      <th>Model</th>\n",
       "      <th>Trim</th>\n",
       "      <th>Type</th>\n",
       "      <th>Cylinder</th>\n",
       "      <th>Liter</th>\n",
       "      <th>Doors</th>\n",
       "      <th>Cruise</th>\n",
       "      <th>Sound</th>\n",
       "      <th>Leather</th>\n",
       "    </tr>\n",
       "  </thead>\n",
       "  <tbody>\n",
       "    <tr>\n",
       "      <th>0</th>\n",
       "      <td>17314.103129</td>\n",
       "      <td>8221</td>\n",
       "      <td>Buick</td>\n",
       "      <td>Century</td>\n",
       "      <td>Sedan 4D</td>\n",
       "      <td>Sedan</td>\n",
       "      <td>6</td>\n",
       "      <td>3.1</td>\n",
       "      <td>4</td>\n",
       "      <td>1</td>\n",
       "      <td>1</td>\n",
       "      <td>1</td>\n",
       "    </tr>\n",
       "    <tr>\n",
       "      <th>1</th>\n",
       "      <td>17542.036083</td>\n",
       "      <td>9135</td>\n",
       "      <td>Buick</td>\n",
       "      <td>Century</td>\n",
       "      <td>Sedan 4D</td>\n",
       "      <td>Sedan</td>\n",
       "      <td>6</td>\n",
       "      <td>3.1</td>\n",
       "      <td>4</td>\n",
       "      <td>1</td>\n",
       "      <td>1</td>\n",
       "      <td>0</td>\n",
       "    </tr>\n",
       "    <tr>\n",
       "      <th>2</th>\n",
       "      <td>16218.847862</td>\n",
       "      <td>13196</td>\n",
       "      <td>Buick</td>\n",
       "      <td>Century</td>\n",
       "      <td>Sedan 4D</td>\n",
       "      <td>Sedan</td>\n",
       "      <td>6</td>\n",
       "      <td>3.1</td>\n",
       "      <td>4</td>\n",
       "      <td>1</td>\n",
       "      <td>1</td>\n",
       "      <td>0</td>\n",
       "    </tr>\n",
       "    <tr>\n",
       "      <th>3</th>\n",
       "      <td>16336.913140</td>\n",
       "      <td>16342</td>\n",
       "      <td>Buick</td>\n",
       "      <td>Century</td>\n",
       "      <td>Sedan 4D</td>\n",
       "      <td>Sedan</td>\n",
       "      <td>6</td>\n",
       "      <td>3.1</td>\n",
       "      <td>4</td>\n",
       "      <td>1</td>\n",
       "      <td>0</td>\n",
       "      <td>0</td>\n",
       "    </tr>\n",
       "    <tr>\n",
       "      <th>4</th>\n",
       "      <td>16339.170324</td>\n",
       "      <td>19832</td>\n",
       "      <td>Buick</td>\n",
       "      <td>Century</td>\n",
       "      <td>Sedan 4D</td>\n",
       "      <td>Sedan</td>\n",
       "      <td>6</td>\n",
       "      <td>3.1</td>\n",
       "      <td>4</td>\n",
       "      <td>1</td>\n",
       "      <td>0</td>\n",
       "      <td>1</td>\n",
       "    </tr>\n",
       "  </tbody>\n",
       "</table>\n",
       "</div>"
      ],
      "text/plain": [
       "          Price  Mileage   Make    Model      Trim   Type  Cylinder  Liter  \\\n",
       "0  17314.103129     8221  Buick  Century  Sedan 4D  Sedan         6    3.1   \n",
       "1  17542.036083     9135  Buick  Century  Sedan 4D  Sedan         6    3.1   \n",
       "2  16218.847862    13196  Buick  Century  Sedan 4D  Sedan         6    3.1   \n",
       "3  16336.913140    16342  Buick  Century  Sedan 4D  Sedan         6    3.1   \n",
       "4  16339.170324    19832  Buick  Century  Sedan 4D  Sedan         6    3.1   \n",
       "\n",
       "   Doors  Cruise  Sound  Leather  \n",
       "0      4       1      1        1  \n",
       "1      4       1      1        0  \n",
       "2      4       1      1        0  \n",
       "3      4       1      0        0  \n",
       "4      4       1      0        1  "
      ]
     },
     "execution_count": 6,
     "metadata": {},
     "output_type": "execute_result"
    }
   ],
   "source": [
    "df.head()"
   ]
  },
  {
   "cell_type": "markdown",
   "metadata": {},
   "source": [
    "# Tasks Part 1"
   ]
  },
  {
   "cell_type": "markdown",
   "metadata": {},
   "source": [
    "### Find linear regression equation"
   ]
  },
  {
   "cell_type": "code",
   "execution_count": 7,
   "metadata": {},
   "outputs": [],
   "source": [
    "X=df[['Mileage']]\n",
    "y=df['Price']\n",
    "\n"
   ]
  },
  {
   "cell_type": "code",
   "execution_count": 8,
   "metadata": {},
   "outputs": [
    {
     "data": {
      "text/plain": [
       "LinearRegression()"
      ]
     },
     "execution_count": 8,
     "metadata": {},
     "output_type": "execute_result"
    }
   ],
   "source": [
    "regr=linear_model.LinearRegression()\n",
    "regr.fit(X,y)"
   ]
  },
  {
   "cell_type": "code",
   "execution_count": 9,
   "metadata": {},
   "outputs": [],
   "source": [
    "m= format(regr.coef_[0],'.2f')\n",
    "c=format(regr.intercept_,'.2f')"
   ]
  },
  {
   "cell_type": "code",
   "execution_count": 10,
   "metadata": {},
   "outputs": [
    {
     "name": "stdout",
     "output_type": "stream",
     "text": [
      "-0.17 * x +24764.56 \n"
     ]
    }
   ],
   "source": [
    "print('{} * x +{} '.format(m,c))"
   ]
  },
  {
   "cell_type": "markdown",
   "metadata": {},
   "source": [
    "###  Chart original data and equation chart"
   ]
  },
  {
   "cell_type": "code",
   "execution_count": 11,
   "metadata": {},
   "outputs": [
    {
     "data": {
      "image/png": "[encoded data removed]",
      "text/plain": [
       "<Figure size 432x288 with 1 Axes>"
      ]
     },
     "metadata": {
      "needs_background": "light"
     },
     "output_type": "display_data"
    }
   ],
   "source": [
    "plt.scatter(X,y,color='b')\n",
    "plt.plot(X,regr.predict(X),color='r')\n",
    "plt.title('Mileage Vs Car price')\n",
    "plt.xlabel('Mileage of the car')\n",
    "plt.ylabel('Car price')\n",
    "plt.show()"
   ]
  },
  {
   "cell_type": "markdown",
   "metadata": {},
   "source": [
    "### Find R^2 equation"
   ]
  },
  {
   "cell_type": "code",
   "execution_count": 12,
   "metadata": {},
   "outputs": [
    {
     "name": "stdout",
     "output_type": "stream",
     "text": [
      "0.02046344732348926\n"
     ]
    }
   ],
   "source": [
    "print(regr.score(X,y))"
   ]
  },
  {
   "cell_type": "markdown",
   "metadata": {},
   "source": [
    "This is not a good fit of data since it is less than 0.8"
   ]
  },
  {
   "cell_type": "markdown",
   "metadata": {},
   "source": [
    "# Tasks Part 2"
   ]
  },
  {
   "cell_type": "markdown",
   "metadata": {},
   "source": [
    "### Use mileage, cylinders, liters, doors, cruise, sound, and leather to find the linear regression equation."
   ]
  },
  {
   "cell_type": "code",
   "execution_count": 35,
   "metadata": {},
   "outputs": [
    {
     "data": {
      "text/html": [
       "<div>\n",
       "<style scoped>\n",
       "    .dataframe tbody tr th:only-of-type {\n",
       "        vertical-align: middle;\n",
       "    }\n",
       "\n",
       "    .dataframe tbody tr th {\n",
       "        vertical-align: top;\n",
       "    }\n",
       "\n",
       "    .dataframe thead th {\n",
       "        text-align: right;\n",
       "    }\n",
       "</style>\n",
       "<table border=\"1\" class=\"dataframe\">\n",
       "  <thead>\n",
       "    <tr style=\"text-align: right;\">\n",
       "      <th></th>\n",
       "      <th>Price</th>\n",
       "      <th>Mileage</th>\n",
       "      <th>Make</th>\n",
       "      <th>Model</th>\n",
       "      <th>Trim</th>\n",
       "      <th>Type</th>\n",
       "      <th>Cylinder</th>\n",
       "      <th>Liter</th>\n",
       "      <th>Doors</th>\n",
       "      <th>Cruise</th>\n",
       "      <th>Sound</th>\n",
       "      <th>Leather</th>\n",
       "    </tr>\n",
       "  </thead>\n",
       "  <tbody>\n",
       "    <tr>\n",
       "      <th>0</th>\n",
       "      <td>17314.103129</td>\n",
       "      <td>8221</td>\n",
       "      <td>Buick</td>\n",
       "      <td>Century</td>\n",
       "      <td>Sedan 4D</td>\n",
       "      <td>Sedan</td>\n",
       "      <td>6</td>\n",
       "      <td>3.1</td>\n",
       "      <td>4</td>\n",
       "      <td>1</td>\n",
       "      <td>1</td>\n",
       "      <td>1</td>\n",
       "    </tr>\n",
       "    <tr>\n",
       "      <th>1</th>\n",
       "      <td>17542.036083</td>\n",
       "      <td>9135</td>\n",
       "      <td>Buick</td>\n",
       "      <td>Century</td>\n",
       "      <td>Sedan 4D</td>\n",
       "      <td>Sedan</td>\n",
       "      <td>6</td>\n",
       "      <td>3.1</td>\n",
       "      <td>4</td>\n",
       "      <td>1</td>\n",
       "      <td>1</td>\n",
       "      <td>0</td>\n",
       "    </tr>\n",
       "    <tr>\n",
       "      <th>2</th>\n",
       "      <td>16218.847862</td>\n",
       "      <td>13196</td>\n",
       "      <td>Buick</td>\n",
       "      <td>Century</td>\n",
       "      <td>Sedan 4D</td>\n",
       "      <td>Sedan</td>\n",
       "      <td>6</td>\n",
       "      <td>3.1</td>\n",
       "      <td>4</td>\n",
       "      <td>1</td>\n",
       "      <td>1</td>\n",
       "      <td>0</td>\n",
       "    </tr>\n",
       "    <tr>\n",
       "      <th>3</th>\n",
       "      <td>16336.913140</td>\n",
       "      <td>16342</td>\n",
       "      <td>Buick</td>\n",
       "      <td>Century</td>\n",
       "      <td>Sedan 4D</td>\n",
       "      <td>Sedan</td>\n",
       "      <td>6</td>\n",
       "      <td>3.1</td>\n",
       "      <td>4</td>\n",
       "      <td>1</td>\n",
       "      <td>0</td>\n",
       "      <td>0</td>\n",
       "    </tr>\n",
       "    <tr>\n",
       "      <th>4</th>\n",
       "      <td>16339.170324</td>\n",
       "      <td>19832</td>\n",
       "      <td>Buick</td>\n",
       "      <td>Century</td>\n",
       "      <td>Sedan 4D</td>\n",
       "      <td>Sedan</td>\n",
       "      <td>6</td>\n",
       "      <td>3.1</td>\n",
       "      <td>4</td>\n",
       "      <td>1</td>\n",
       "      <td>0</td>\n",
       "      <td>1</td>\n",
       "    </tr>\n",
       "  </tbody>\n",
       "</table>\n",
       "</div>"
      ],
      "text/plain": [
       "          Price  Mileage   Make    Model      Trim   Type  Cylinder  Liter  \\\n",
       "0  17314.103129     8221  Buick  Century  Sedan 4D  Sedan         6    3.1   \n",
       "1  17542.036083     9135  Buick  Century  Sedan 4D  Sedan         6    3.1   \n",
       "2  16218.847862    13196  Buick  Century  Sedan 4D  Sedan         6    3.1   \n",
       "3  16336.913140    16342  Buick  Century  Sedan 4D  Sedan         6    3.1   \n",
       "4  16339.170324    19832  Buick  Century  Sedan 4D  Sedan         6    3.1   \n",
       "\n",
       "   Doors  Cruise  Sound  Leather  \n",
       "0      4       1      1        1  \n",
       "1      4       1      1        0  \n",
       "2      4       1      1        0  \n",
       "3      4       1      0        0  \n",
       "4      4       1      0        1  "
      ]
     },
     "execution_count": 35,
     "metadata": {},
     "output_type": "execute_result"
    }
   ],
   "source": [
    "df.head()"
   ]
  },
  {
   "cell_type": "code",
   "execution_count": 14,
   "metadata": {},
   "outputs": [],
   "source": [
    "features=['Mileage','Cylinder','Liter','Doors','Cruise','Sound','Leather']"
   ]
  },
  {
   "cell_type": "code",
   "execution_count": 17,
   "metadata": {},
   "outputs": [],
   "source": [
    "def reg_eqn(cols,X,y='Price',output=False):\n",
    "    X=df[cols]\n",
    "    y_pred=df[y]\n",
    "    regr=linear_model.LinearRegression()\n",
    "    regr.fit(X,y_pred)\n",
    "    if output:\n",
    "        for n, x in enumerate(cols):\n",
    "            print('({} * {}) + '.format(regr.coef_[n], x))\n",
    "        print('{}'.format(regr.intercept_))\n",
    "    return regr"
   ]
  },
  {
   "cell_type": "code",
   "execution_count": 18,
   "metadata": {},
   "outputs": [
    {
     "name": "stdout",
     "output_type": "stream",
     "text": [
      "(-0.16974783233303697 * Mileage) + \n",
      "(3792.3789307825155 * Cylinder) + \n",
      "(-787.2207316338275 * Liter) + \n",
      "(-1542.7458463820647 * Doors) + \n",
      "(6288.997149849929 * Cruise) + \n",
      "(-1993.7952756984296 * Sound) + \n",
      "(3349.361619613558 * Leather) + \n",
      "6758.755143598079\n"
     ]
    }
   ],
   "source": [
    "regr_cols=reg_eqn(features,df,output= True)\n"
   ]
  },
  {
   "cell_type": "markdown",
   "metadata": {},
   "source": [
    "### Find R^2 equation"
   ]
  },
  {
   "cell_type": "code",
   "execution_count": 21,
   "metadata": {},
   "outputs": [
    {
     "name": "stdout",
     "output_type": "stream",
     "text": [
      "0.446264353672838\n"
     ]
    }
   ],
   "source": [
    "print(regr_cols.score(df[features],df['Price']))"
   ]
  },
  {
   "cell_type": "markdown",
   "metadata": {},
   "source": [
    "### Find best predictor columns"
   ]
  },
  {
   "cell_type": "code",
   "execution_count": 46,
   "metadata": {},
   "outputs": [],
   "source": [
    "from itertools import combinations\n",
    "\n",
    "def reg_best_price(cols,df_input,output='Price'):\n",
    "    X=df_input[cols]\n",
    "    y_pred=df_input[output]\n",
    "    regr=linear_model.LinearRegression()\n",
    "    regr.fit(X,y_pred)\n",
    "    return regr.score(X,y_pred)\n",
    "\n",
    "#Combination of number of columns\n",
    "\n",
    "def get_combination(features):\n",
    "    return [list(combinations(features,n+1)) for n in range (len(features))]\n",
    "\n",
    "\n",
    "def all_scores_combos(combo,df_input,output='Price'):\n",
    "    score={}\n",
    "    for i in range(len(combo)):\n",
    "        for j in combo[i]:\n",
    "            score[j] = reg_best_price(list(j),df_input,output)\n",
    "    return score\n",
    "            \n",
    "\n",
    "\n"
   ]
  },
  {
   "cell_type": "code",
   "execution_count": 47,
   "metadata": {},
   "outputs": [
    {
     "name": "stdout",
     "output_type": "stream",
     "text": [
      "0.446264353672838 ('Mileage', 'Cylinder', 'Liter', 'Doors', 'Cruise', 'Sound', 'Leather')\n",
      "0.44569092105870245 ('Mileage', 'Cylinder', 'Doors', 'Cruise', 'Sound', 'Leather')\n",
      "0.437805741536638 ('Mileage', 'Cylinder', 'Liter', 'Doors', 'Cruise', 'Leather')\n",
      "0.4369402151237246 ('Mileage', 'Cylinder', 'Doors', 'Cruise', 'Leather')\n",
      "0.43014148406475605 ('Mileage', 'Cylinder', 'Liter', 'Cruise', 'Sound', 'Leather')\n",
      "0.43001820483252684 ('Mileage', 'Cylinder', 'Cruise', 'Sound', 'Leather')\n",
      "0.4265348637809264 ('Cylinder', 'Liter', 'Doors', 'Cruise', 'Sound', 'Leather')\n",
      "0.4257681327974421 ('Cylinder', 'Doors', 'Cruise', 'Sound', 'Leather')\n",
      "0.42482840454267856 ('Mileage', 'Liter', 'Doors', 'Cruise', 'Sound', 'Leather')\n",
      "0.42441824017998775 ('Mileage', 'Cylinder', 'Liter', 'Doors', 'Cruise', 'Sound')\n",
      "0.42409748258510405 ('Mileage', 'Cylinder', 'Doors', 'Cruise', 'Sound')\n",
      "0.4225307670398467 ('Mileage', 'Cylinder', 'Liter', 'Cruise', 'Leather')\n",
      "0.4225074214774762 ('Mileage', 'Cylinder', 'Cruise', 'Leather')\n",
      "0.4196580477703242 ('Mileage', 'Cylinder', 'Liter', 'Doors', 'Cruise')\n",
      "0.41914964510731756 ('Mileage', 'Cylinder', 'Doors', 'Cruise')\n",
      "0.4188394218057132 ('Cylinder', 'Liter', 'Doors', 'Cruise', 'Leather')\n",
      "0.417760273701972 ('Cylinder', 'Doors', 'Cruise', 'Leather')\n",
      "0.41650804904235117 ('Mileage', 'Liter', 'Cruise', 'Sound', 'Leather')\n",
      "0.414009223163035 ('Mileage', 'Liter', 'Doors', 'Cruise', 'Leather')\n",
      "0.4107029526441046 ('Cylinder', 'Liter', 'Cruise', 'Sound', 'Leather')\n",
      "0.4106549415858881 ('Cylinder', 'Cruise', 'Sound', 'Leather')\n",
      "0.40678789687026895 ('Mileage', 'Liter', 'Cruise', 'Leather')\n",
      "0.40654915865835195 ('Mileage', 'Cylinder', 'Liter', 'Cruise', 'Sound')\n",
      "0.4061644982625816 ('Mileage', 'Cylinder', 'Cruise', 'Sound')\n",
      "0.4050927515057854 ('Cylinder', 'Liter', 'Doors', 'Cruise', 'Sound')\n",
      "0.40462307098659855 ('Cylinder', 'Doors', 'Cruise', 'Sound')\n",
      "0.40380376425767606 ('Cylinder', 'Liter', 'Cruise', 'Leather')\n",
      "0.40380272693971553 ('Cylinder', 'Cruise', 'Leather')\n",
      "0.40346337208358085 ('Liter', 'Doors', 'Cruise', 'Sound', 'Leather')\n",
      "0.4031213170211536 ('Mileage', 'Liter', 'Doors', 'Cruise', 'Sound')\n",
      "0.4025842618924307 ('Mileage', 'Cylinder', 'Liter', 'Cruise')\n",
      "0.4023745860316019 ('Mileage', 'Cylinder', 'Cruise')\n",
      "0.40087486932703065 ('Cylinder', 'Liter', 'Doors', 'Cruise')\n",
      "0.4001989079545568 ('Cylinder', 'Doors', 'Cruise')\n",
      "0.39653266980131807 ('Mileage', 'Liter', 'Doors', 'Cruise')\n",
      "0.395642607365684 ('Liter', 'Cruise', 'Sound', 'Leather')\n",
      "0.39346849142215845 ('Mileage', 'Liter', 'Cruise', 'Sound')\n",
      "0.39345887351036213 ('Liter', 'Doors', 'Cruise', 'Leather')\n",
      "0.38792398390551597 ('Mileage', 'Liter', 'Cruise')\n",
      "0.3875431216736017 ('Cylinder', 'Liter', 'Cruise', 'Sound')\n",
      "0.3873058022296456 ('Cylinder', 'Cruise', 'Sound')\n",
      "0.38665505937731115 ('Liter', 'Cruise', 'Leather')\n",
      "0.3840622008524506 ('Cylinder', 'Liter', 'Cruise')\n",
      "0.3839491324027344 ('Cylinder', 'Cruise')\n",
      "0.38271504500215814 ('Mileage', 'Cylinder', 'Liter', 'Doors', 'Sound', 'Leather')\n",
      "0.38258521179336924 ('Mileage', 'Cylinder', 'Doors', 'Sound', 'Leather')\n",
      "0.3821808777658824 ('Liter', 'Doors', 'Cruise', 'Sound')\n",
      "0.3761916805347969 ('Liter', 'Doors', 'Cruise')\n",
      "0.3730745596141458 ('Liter', 'Cruise', 'Sound')\n",
      "0.37136690890240676 ('Mileage', 'Cylinder', 'Liter', 'Doors', 'Leather')\n",
      "0.3713319983845196 ('Mileage', 'Cylinder', 'Doors', 'Leather')\n",
      "0.3680458490296845 ('Liter', 'Cruise')\n",
      "0.36771522262682865 ('Mileage', 'Cylinder', 'Liter', 'Doors', 'Sound')\n",
      "0.367499129697368 ('Mileage', 'Cylinder', 'Doors', 'Sound')\n",
      "0.365294232839972 ('Mileage', 'Cylinder', 'Liter', 'Sound', 'Leather')\n",
      "0.36516944395094475 ('Cylinder', 'Liter', 'Doors', 'Sound', 'Leather')\n",
      "0.36511700356207033 ('Cylinder', 'Doors', 'Sound', 'Leather')\n",
      "0.36329101174690714 ('Mileage', 'Liter', 'Doors', 'Sound', 'Leather')\n",
      "0.3627841037859245 ('Mileage', 'Cylinder', 'Sound', 'Leather')\n",
      "0.3601250633027092 ('Mileage', 'Cylinder', 'Liter', 'Doors')\n",
      "0.3600299189649302 ('Mileage', 'Cylinder', 'Doors')\n",
      "0.354940443055751 ('Mileage', 'Cylinder', 'Liter', 'Leather')\n",
      "0.3547068894092531 ('Cylinder', 'Liter', 'Doors', 'Leather')\n",
      "0.35470261300089967 ('Cylinder', 'Doors', 'Leather')\n",
      "0.35363153818528137 ('Mileage', 'Liter', 'Sound', 'Leather')\n",
      "0.35303578931823953 ('Mileage', 'Cylinder', 'Leather')\n",
      "0.35038121816111223 ('Cylinder', 'Liter', 'Doors', 'Sound')\n",
      "0.3502699330133767 ('Cylinder', 'Doors', 'Sound')\n",
      "0.34940517971815854 ('Mileage', 'Liter', 'Doors', 'Leather')\n",
      "0.34885465224422074 ('Mileage', 'Cylinder', 'Liter', 'Sound')\n",
      "0.34830222786670784 ('Mileage', 'Liter', 'Doors', 'Sound')\n",
      "0.34805583937456297 ('Cylinder', 'Liter', 'Sound', 'Leather')\n",
      "0.345985332754168 ('Cylinder', 'Sound', 'Leather')\n",
      "0.34579303945195394 ('Mileage', 'Cylinder', 'Sound')\n",
      "0.3442397580756411 ('Liter', 'Doors', 'Sound', 'Leather')\n",
      "0.3434954780689595 ('Cylinder', 'Liter', 'Doors')\n",
      "0.343460536583038 ('Cylinder', 'Doors')\n",
      "0.34228021178720824 ('Mileage', 'Cylinder', 'Liter')\n",
      "0.34105691618639966 ('Mileage', 'Liter', 'Leather')\n",
      "0.33982070826367505 ('Mileage', 'Cylinder')\n",
      "0.33859102766485816 ('Mileage', 'Liter', 'Doors')\n",
      "0.33853269361625415 ('Cylinder', 'Liter', 'Leather')\n",
      "0.3375252452641956 ('Mileage', 'Liter', 'Sound')\n",
      "0.33698000644980586 ('Cylinder', 'Leather')\n",
      "0.3351140707646345 ('Liter', 'Sound', 'Leather')\n",
      "0.3318486045315714 ('Cylinder', 'Liter', 'Sound')\n",
      "0.3312844538529036 ('Liter', 'Doors', 'Leather')\n",
      "0.32947196699054004 ('Liter', 'Doors', 'Sound')\n",
      "0.32927527347959384 ('Cylinder', 'Sound')\n",
      "0.3291279066854156 ('Mileage', 'Liter')\n",
      "0.32591551601566593 ('Cylinder', 'Liter')\n",
      "0.32385903759512247 ('Cylinder',)\n",
      "0.32337917189904175 ('Liter', 'Leather')\n",
      "0.3205156407766834 ('Liter', 'Doors')\n",
      "0.31926427639502897 ('Liter', 'Sound')\n",
      "0.31152674427904514 ('Liter',)\n",
      "0.27282594767567814 ('Mileage', 'Doors', 'Cruise', 'Sound', 'Leather')\n",
      "0.2594013856567561 ('Mileage', 'Cruise', 'Sound', 'Leather')\n",
      "0.2566547812611919 ('Mileage', 'Doors', 'Cruise', 'Leather')\n",
      "0.2474491349580753 ('Doors', 'Cruise', 'Sound', 'Leather')\n",
      "0.24484643441472986 ('Mileage', 'Cruise', 'Leather')\n",
      "0.23464406340531818 ('Cruise', 'Sound', 'Leather')\n",
      "0.23336920288580465 ('Mileage', 'Doors', 'Cruise', 'Sound')\n",
      "0.23229120295179528 ('Doors', 'Cruise', 'Leather')\n",
      "0.2239031407636466 ('Mileage', 'Doors', 'Cruise')\n",
      "0.2210042052179847 ('Cruise', 'Leather')\n",
      "0.21721656906779263 ('Mileage', 'Cruise', 'Sound')\n",
      "0.20931385583158602 ('Mileage', 'Cruise')\n",
      "0.2083536888853531 ('Doors', 'Cruise', 'Sound')\n",
      "0.1996382468921617 ('Doors', 'Cruise')\n",
      "0.19288948066869616 ('Cruise', 'Sound')\n",
      "0.1856330092969275 ('Cruise',)\n",
      "0.08933709379370725 ('Mileage', 'Doors', 'Sound', 'Leather')\n",
      "0.06965940622436506 ('Mileage', 'Sound', 'Leather')\n",
      "0.06687313316188848 ('Doors', 'Sound', 'Leather')\n",
      "0.06256392121987708 ('Mileage', 'Doors', 'Leather')\n",
      "0.05925054392042661 ('Mileage', 'Doors', 'Sound')\n",
      "0.04795369092082724 ('Sound', 'Leather')\n",
      "0.04521956340886857 ('Mileage', 'Leather')\n",
      "0.04141817346866039 ('Doors', 'Leather')\n",
      "0.04039914867118721 ('Mileage', 'Doors')\n",
      "0.0370162877090342 ('Doors', 'Sound')\n",
      "0.036881215967350056 ('Mileage', 'Sound')\n",
      "0.024710851264124534 ('Leather',)\n",
      "0.02046344732348926 ('Mileage',)\n",
      "0.019251466591467037 ('Doors',)\n",
      "0.015462387624189389 ('Sound',)\n"
     ]
    }
   ],
   "source": [
    "features=['Mileage','Cylinder','Liter','Doors','Cruise','Sound','Leather']\n",
    "\n",
    "combo=get_combination(features)\n",
    "score=all_scores_combos(combo,df)\n",
    "list1=sorted(score.items(),key=lambda c :c[1],reverse=True)\n",
    "for i in list1:\n",
    "    print(i[1],i[0])"
   ]
  },
  {
   "cell_type": "markdown",
   "metadata": {},
   "source": []
  },
  {
   "cell_type": "code",
   "execution_count": null,
   "metadata": {},
   "outputs": [],
   "source": []
  }
 ],
 "metadata": {
  "kernelspec": {
   "display_name": "Python 3 (ipykernel)",
   "language": "python",
   "name": "python3"
  },
  "language_info": {
   "codemirror_mode": {
    "name": "ipython",
    "version": 3
   },
   "file_extension": ".py",
   "mimetype": "text/x-python",
   "name": "python",
   "nbconvert_exporter": "python",
   "pygments_lexer": "ipython3",
   "version": "3.9.7"
  }
 },
 "nbformat": 4,
 "nbformat_minor": 1
}
